{
 "cells": [
  {
   "cell_type": "code",
   "execution_count": 1,
   "metadata": {},
   "outputs": [],
   "source": [
    "import numpy as np\n",
    "import pandas as pd"
   ]
  },
  {
   "cell_type": "code",
   "execution_count": 2,
   "metadata": {},
   "outputs": [
    {
     "data": {
      "text/html": [
       "<div>\n",
       "<style scoped>\n",
       "    .dataframe tbody tr th:only-of-type {\n",
       "        vertical-align: middle;\n",
       "    }\n",
       "\n",
       "    .dataframe tbody tr th {\n",
       "        vertical-align: top;\n",
       "    }\n",
       "\n",
       "    .dataframe thead th {\n",
       "        text-align: right;\n",
       "    }\n",
       "</style>\n",
       "<table border=\"1\" class=\"dataframe\">\n",
       "  <thead>\n",
       "    <tr style=\"text-align: right;\">\n",
       "      <th></th>\n",
       "      <th>PLAYER</th>\n",
       "      <th>matches_played</th>\n",
       "      <th>innings_batted</th>\n",
       "      <th>runs_scored</th>\n",
       "      <th>highest_runs</th>\n",
       "      <th>balls_faced</th>\n",
       "      <th>average_runs</th>\n",
       "      <th>strike_rate</th>\n",
       "      <th>innings_bowled</th>\n",
       "      <th>overs</th>\n",
       "      <th>runs_given</th>\n",
       "      <th>wickets_obtained</th>\n",
       "      <th>average_runs_per_wicket</th>\n",
       "      <th>bowling_economy</th>\n",
       "    </tr>\n",
       "  </thead>\n",
       "  <tbody>\n",
       "    <tr>\n",
       "      <th>0</th>\n",
       "      <td>Aaron Finch</td>\n",
       "      <td>10</td>\n",
       "      <td>9</td>\n",
       "      <td>134</td>\n",
       "      <td>46</td>\n",
       "      <td>100</td>\n",
       "      <td>16.75</td>\n",
       "      <td>144.00</td>\n",
       "      <td>0</td>\n",
       "      <td>0.0</td>\n",
       "      <td>0</td>\n",
       "      <td>0</td>\n",
       "      <td>0.0</td>\n",
       "      <td>0.0</td>\n",
       "    </tr>\n",
       "    <tr>\n",
       "      <th>1</th>\n",
       "      <td>AB de Villiers</td>\n",
       "      <td>12</td>\n",
       "      <td>11</td>\n",
       "      <td>480</td>\n",
       "      <td>90</td>\n",
       "      <td>275</td>\n",
       "      <td>53.33</td>\n",
       "      <td>174.54</td>\n",
       "      <td>0</td>\n",
       "      <td>0.0</td>\n",
       "      <td>0</td>\n",
       "      <td>0</td>\n",
       "      <td>0.0</td>\n",
       "      <td>0.0</td>\n",
       "    </tr>\n",
       "    <tr>\n",
       "      <th>2</th>\n",
       "      <td>Abhishek Sharma</td>\n",
       "      <td>3</td>\n",
       "      <td>3</td>\n",
       "      <td>63</td>\n",
       "      <td>46</td>\n",
       "      <td>33</td>\n",
       "      <td>63.00</td>\n",
       "      <td>190.90</td>\n",
       "      <td>0</td>\n",
       "      <td>0.0</td>\n",
       "      <td>0</td>\n",
       "      <td>0</td>\n",
       "      <td>0.0</td>\n",
       "      <td>0.0</td>\n",
       "    </tr>\n",
       "    <tr>\n",
       "      <th>3</th>\n",
       "      <td>Ajinkya Rahane</td>\n",
       "      <td>15</td>\n",
       "      <td>14</td>\n",
       "      <td>370</td>\n",
       "      <td>65</td>\n",
       "      <td>313</td>\n",
       "      <td>28.46</td>\n",
       "      <td>118.21</td>\n",
       "      <td>0</td>\n",
       "      <td>0.0</td>\n",
       "      <td>0</td>\n",
       "      <td>0</td>\n",
       "      <td>0.0</td>\n",
       "      <td>0.0</td>\n",
       "    </tr>\n",
       "    <tr>\n",
       "      <th>4</th>\n",
       "      <td>Alex Hales</td>\n",
       "      <td>6</td>\n",
       "      <td>6</td>\n",
       "      <td>148</td>\n",
       "      <td>45</td>\n",
       "      <td>118</td>\n",
       "      <td>24.66</td>\n",
       "      <td>125.42</td>\n",
       "      <td>0</td>\n",
       "      <td>0.0</td>\n",
       "      <td>0</td>\n",
       "      <td>0</td>\n",
       "      <td>0.0</td>\n",
       "      <td>0.0</td>\n",
       "    </tr>\n",
       "  </tbody>\n",
       "</table>\n",
       "</div>"
      ],
      "text/plain": [
       "            PLAYER  matches_played  innings_batted  runs_scored  highest_runs  \\\n",
       "0      Aaron Finch              10               9          134            46   \n",
       "1   AB de Villiers              12              11          480            90   \n",
       "2  Abhishek Sharma               3               3           63            46   \n",
       "3   Ajinkya Rahane              15              14          370            65   \n",
       "4       Alex Hales               6               6          148            45   \n",
       "\n",
       "   balls_faced  average_runs  strike_rate  innings_bowled  overs  runs_given  \\\n",
       "0          100         16.75       144.00               0    0.0           0   \n",
       "1          275         53.33       174.54               0    0.0           0   \n",
       "2           33         63.00       190.90               0    0.0           0   \n",
       "3          313         28.46       118.21               0    0.0           0   \n",
       "4          118         24.66       125.42               0    0.0           0   \n",
       "\n",
       "   wickets_obtained  average_runs_per_wicket   bowling_economy \\r  \n",
       "0                 0                       0.0                 0.0  \n",
       "1                 0                       0.0                 0.0  \n",
       "2                 0                       0.0                 0.0  \n",
       "3                 0                       0.0                 0.0  \n",
       "4                 0                       0.0                 0.0  "
      ]
     },
     "execution_count": 2,
     "metadata": {},
     "output_type": "execute_result"
    }
   ],
   "source": [
    "data = pd.read_csv('cricketers.csv', sep='\\t', lineterminator='\\n')\n",
    "data.head()"
   ]
  },
  {
   "cell_type": "markdown",
   "metadata": {},
   "source": [
    "## 1.Normalizing the data using MinMaxScalar"
   ]
  },
  {
   "cell_type": "code",
   "execution_count": 3,
   "metadata": {},
   "outputs": [],
   "source": [
    "from sklearn import preprocessing"
   ]
  },
  {
   "cell_type": "code",
   "execution_count": 4,
   "metadata": {},
   "outputs": [],
   "source": [
    "#Removing Player column to apply MinMaxScalar\n",
    "normData = data.drop(['PLAYER'], axis=1)"
   ]
  },
  {
   "cell_type": "code",
   "execution_count": 6,
   "metadata": {},
   "outputs": [
    {
     "name": "stderr",
     "output_type": "stream",
     "text": [
      "C:\\Users\\pkavya\\AppData\\Local\\Continuum\\anaconda3\\lib\\site-packages\\sklearn\\preprocessing\\data.py:323: DataConversionWarning: Data with input dtype int64, float64 were all converted to float64 by MinMaxScaler.\n",
      "  return self.partial_fit(X, y)\n"
     ]
    },
    {
     "data": {
      "text/html": [
       "<div>\n",
       "<style scoped>\n",
       "    .dataframe tbody tr th:only-of-type {\n",
       "        vertical-align: middle;\n",
       "    }\n",
       "\n",
       "    .dataframe tbody tr th {\n",
       "        vertical-align: top;\n",
       "    }\n",
       "\n",
       "    .dataframe thead th {\n",
       "        text-align: right;\n",
       "    }\n",
       "</style>\n",
       "<table border=\"1\" class=\"dataframe\">\n",
       "  <thead>\n",
       "    <tr style=\"text-align: right;\">\n",
       "      <th></th>\n",
       "      <th>matches_played</th>\n",
       "      <th>innings_batted</th>\n",
       "      <th>runs_scored</th>\n",
       "      <th>highest_runs</th>\n",
       "      <th>balls_faced</th>\n",
       "      <th>average_runs</th>\n",
       "      <th>strike_rate</th>\n",
       "      <th>innings_bowled</th>\n",
       "      <th>overs</th>\n",
       "      <th>runs_given</th>\n",
       "      <th>wickets_obtained</th>\n",
       "      <th>average_runs_per_wicket</th>\n",
       "      <th>bowling_economy</th>\n",
       "    </tr>\n",
       "  </thead>\n",
       "  <tbody>\n",
       "    <tr>\n",
       "      <th>0</th>\n",
       "      <td>0.588235</td>\n",
       "      <td>0.529412</td>\n",
       "      <td>0.182313</td>\n",
       "      <td>0.359375</td>\n",
       "      <td>0.193798</td>\n",
       "      <td>0.220889</td>\n",
       "      <td>0.480000</td>\n",
       "      <td>0.0</td>\n",
       "      <td>0.0</td>\n",
       "      <td>0.0</td>\n",
       "      <td>0.0</td>\n",
       "      <td>0.0</td>\n",
       "      <td>0.0</td>\n",
       "    </tr>\n",
       "    <tr>\n",
       "      <th>1</th>\n",
       "      <td>0.705882</td>\n",
       "      <td>0.647059</td>\n",
       "      <td>0.653061</td>\n",
       "      <td>0.703125</td>\n",
       "      <td>0.532946</td>\n",
       "      <td>0.703284</td>\n",
       "      <td>0.581800</td>\n",
       "      <td>0.0</td>\n",
       "      <td>0.0</td>\n",
       "      <td>0.0</td>\n",
       "      <td>0.0</td>\n",
       "      <td>0.0</td>\n",
       "      <td>0.0</td>\n",
       "    </tr>\n",
       "    <tr>\n",
       "      <th>2</th>\n",
       "      <td>0.176471</td>\n",
       "      <td>0.176471</td>\n",
       "      <td>0.085714</td>\n",
       "      <td>0.359375</td>\n",
       "      <td>0.063953</td>\n",
       "      <td>0.830806</td>\n",
       "      <td>0.636333</td>\n",
       "      <td>0.0</td>\n",
       "      <td>0.0</td>\n",
       "      <td>0.0</td>\n",
       "      <td>0.0</td>\n",
       "      <td>0.0</td>\n",
       "      <td>0.0</td>\n",
       "    </tr>\n",
       "    <tr>\n",
       "      <th>3</th>\n",
       "      <td>0.882353</td>\n",
       "      <td>0.823529</td>\n",
       "      <td>0.503401</td>\n",
       "      <td>0.507812</td>\n",
       "      <td>0.606589</td>\n",
       "      <td>0.375313</td>\n",
       "      <td>0.394033</td>\n",
       "      <td>0.0</td>\n",
       "      <td>0.0</td>\n",
       "      <td>0.0</td>\n",
       "      <td>0.0</td>\n",
       "      <td>0.0</td>\n",
       "      <td>0.0</td>\n",
       "    </tr>\n",
       "    <tr>\n",
       "      <th>4</th>\n",
       "      <td>0.352941</td>\n",
       "      <td>0.352941</td>\n",
       "      <td>0.201361</td>\n",
       "      <td>0.351562</td>\n",
       "      <td>0.228682</td>\n",
       "      <td>0.325201</td>\n",
       "      <td>0.418067</td>\n",
       "      <td>0.0</td>\n",
       "      <td>0.0</td>\n",
       "      <td>0.0</td>\n",
       "      <td>0.0</td>\n",
       "      <td>0.0</td>\n",
       "      <td>0.0</td>\n",
       "    </tr>\n",
       "  </tbody>\n",
       "</table>\n",
       "</div>"
      ],
      "text/plain": [
       "   matches_played  innings_batted  runs_scored  highest_runs  balls_faced  \\\n",
       "0        0.588235        0.529412     0.182313      0.359375     0.193798   \n",
       "1        0.705882        0.647059     0.653061      0.703125     0.532946   \n",
       "2        0.176471        0.176471     0.085714      0.359375     0.063953   \n",
       "3        0.882353        0.823529     0.503401      0.507812     0.606589   \n",
       "4        0.352941        0.352941     0.201361      0.351562     0.228682   \n",
       "\n",
       "   average_runs  strike_rate  innings_bowled  overs  runs_given  \\\n",
       "0      0.220889     0.480000             0.0    0.0         0.0   \n",
       "1      0.703284     0.581800             0.0    0.0         0.0   \n",
       "2      0.830806     0.636333             0.0    0.0         0.0   \n",
       "3      0.375313     0.394033             0.0    0.0         0.0   \n",
       "4      0.325201     0.418067             0.0    0.0         0.0   \n",
       "\n",
       "   wickets_obtained  average_runs_per_wicket   bowling_economy \\r  \n",
       "0               0.0                       0.0                 0.0  \n",
       "1               0.0                       0.0                 0.0  \n",
       "2               0.0                       0.0                 0.0  \n",
       "3               0.0                       0.0                 0.0  \n",
       "4               0.0                       0.0                 0.0  "
      ]
     },
     "execution_count": 6,
     "metadata": {},
     "output_type": "execute_result"
    }
   ],
   "source": [
    "scalar = preprocessing.MinMaxScaler().fit_transform(normData)\n",
    "normalize_Data = pd.DataFrame(scalar)\n",
    "normalize_Data.columns = normData.columns\n",
    "normalize_Data.head()"
   ]
  },
  {
   "cell_type": "code",
   "execution_count": 7,
   "metadata": {},
   "outputs": [
    {
     "data": {
      "text/html": [
       "<div>\n",
       "<style scoped>\n",
       "    .dataframe tbody tr th:only-of-type {\n",
       "        vertical-align: middle;\n",
       "    }\n",
       "\n",
       "    .dataframe tbody tr th {\n",
       "        vertical-align: top;\n",
       "    }\n",
       "\n",
       "    .dataframe thead th {\n",
       "        text-align: right;\n",
       "    }\n",
       "</style>\n",
       "<table border=\"1\" class=\"dataframe\">\n",
       "  <thead>\n",
       "    <tr style=\"text-align: right;\">\n",
       "      <th></th>\n",
       "      <th>matches_played</th>\n",
       "      <th>innings_batted</th>\n",
       "      <th>runs_scored</th>\n",
       "      <th>highest_runs</th>\n",
       "      <th>balls_faced</th>\n",
       "      <th>average_runs</th>\n",
       "      <th>strike_rate</th>\n",
       "      <th>innings_bowled</th>\n",
       "      <th>overs</th>\n",
       "      <th>runs_given</th>\n",
       "      <th>wickets_obtained</th>\n",
       "      <th>average_runs_per_wicket</th>\n",
       "      <th>bowling_economy</th>\n",
       "    </tr>\n",
       "  </thead>\n",
       "  <tbody>\n",
       "    <tr>\n",
       "      <th>0</th>\n",
       "      <td>0.588</td>\n",
       "      <td>0.529</td>\n",
       "      <td>0.182</td>\n",
       "      <td>0.359</td>\n",
       "      <td>0.194</td>\n",
       "      <td>0.221</td>\n",
       "      <td>0.480</td>\n",
       "      <td>0.0</td>\n",
       "      <td>0.0</td>\n",
       "      <td>0.0</td>\n",
       "      <td>0.0</td>\n",
       "      <td>0.0</td>\n",
       "      <td>0.0</td>\n",
       "    </tr>\n",
       "    <tr>\n",
       "      <th>1</th>\n",
       "      <td>0.706</td>\n",
       "      <td>0.647</td>\n",
       "      <td>0.653</td>\n",
       "      <td>0.703</td>\n",
       "      <td>0.533</td>\n",
       "      <td>0.703</td>\n",
       "      <td>0.582</td>\n",
       "      <td>0.0</td>\n",
       "      <td>0.0</td>\n",
       "      <td>0.0</td>\n",
       "      <td>0.0</td>\n",
       "      <td>0.0</td>\n",
       "      <td>0.0</td>\n",
       "    </tr>\n",
       "    <tr>\n",
       "      <th>2</th>\n",
       "      <td>0.176</td>\n",
       "      <td>0.176</td>\n",
       "      <td>0.086</td>\n",
       "      <td>0.359</td>\n",
       "      <td>0.064</td>\n",
       "      <td>0.831</td>\n",
       "      <td>0.636</td>\n",
       "      <td>0.0</td>\n",
       "      <td>0.0</td>\n",
       "      <td>0.0</td>\n",
       "      <td>0.0</td>\n",
       "      <td>0.0</td>\n",
       "      <td>0.0</td>\n",
       "    </tr>\n",
       "    <tr>\n",
       "      <th>3</th>\n",
       "      <td>0.882</td>\n",
       "      <td>0.824</td>\n",
       "      <td>0.503</td>\n",
       "      <td>0.508</td>\n",
       "      <td>0.607</td>\n",
       "      <td>0.375</td>\n",
       "      <td>0.394</td>\n",
       "      <td>0.0</td>\n",
       "      <td>0.0</td>\n",
       "      <td>0.0</td>\n",
       "      <td>0.0</td>\n",
       "      <td>0.0</td>\n",
       "      <td>0.0</td>\n",
       "    </tr>\n",
       "    <tr>\n",
       "      <th>4</th>\n",
       "      <td>0.353</td>\n",
       "      <td>0.353</td>\n",
       "      <td>0.201</td>\n",
       "      <td>0.352</td>\n",
       "      <td>0.229</td>\n",
       "      <td>0.325</td>\n",
       "      <td>0.418</td>\n",
       "      <td>0.0</td>\n",
       "      <td>0.0</td>\n",
       "      <td>0.0</td>\n",
       "      <td>0.0</td>\n",
       "      <td>0.0</td>\n",
       "      <td>0.0</td>\n",
       "    </tr>\n",
       "  </tbody>\n",
       "</table>\n",
       "</div>"
      ],
      "text/plain": [
       "   matches_played  innings_batted  runs_scored  highest_runs  balls_faced  \\\n",
       "0           0.588           0.529        0.182         0.359        0.194   \n",
       "1           0.706           0.647        0.653         0.703        0.533   \n",
       "2           0.176           0.176        0.086         0.359        0.064   \n",
       "3           0.882           0.824        0.503         0.508        0.607   \n",
       "4           0.353           0.353        0.201         0.352        0.229   \n",
       "\n",
       "   average_runs  strike_rate  innings_bowled  overs  runs_given  \\\n",
       "0         0.221        0.480             0.0    0.0         0.0   \n",
       "1         0.703        0.582             0.0    0.0         0.0   \n",
       "2         0.831        0.636             0.0    0.0         0.0   \n",
       "3         0.375        0.394             0.0    0.0         0.0   \n",
       "4         0.325        0.418             0.0    0.0         0.0   \n",
       "\n",
       "   wickets_obtained  average_runs_per_wicket   bowling_economy \\r  \n",
       "0               0.0                       0.0                 0.0  \n",
       "1               0.0                       0.0                 0.0  \n",
       "2               0.0                       0.0                 0.0  \n",
       "3               0.0                       0.0                 0.0  \n",
       "4               0.0                       0.0                 0.0  "
      ]
     },
     "execution_count": 7,
     "metadata": {},
     "output_type": "execute_result"
    }
   ],
   "source": [
    "#Rounding all the float values to 3\n",
    "normalize_Data = normalize_Data.round(3)\n",
    "normalize_Data.head()"
   ]
  },
  {
   "cell_type": "markdown",
   "metadata": {},
   "source": [
    "## 2.Custom code for K-Means on average_runs and bowling_economy with K=2 "
   ]
  },
  {
   "cell_type": "code",
   "execution_count": 8,
   "metadata": {},
   "outputs": [],
   "source": [
    "import matplotlib.pyplot as plt\n",
    "import copy\n",
    "import random as rd\n",
    "%matplotlib inline"
   ]
  },
  {
   "cell_type": "code",
   "execution_count": 10,
   "metadata": {},
   "outputs": [],
   "source": [
    "#Taking average runs and bowling economy into one dataframe\n",
    "df = pd.DataFrame({\n",
    "    'X': normalize_Data['average_runs'],\n",
    "    'Y': normalize_Data.iloc[:,-1]\n",
    "})"
   ]
  },
  {
   "cell_type": "code",
   "execution_count": 11,
   "metadata": {},
   "outputs": [],
   "source": [
    "#Taking the values into X\n",
    "X = df.iloc[1:].values"
   ]
  },
  {
   "cell_type": "code",
   "execution_count": 17,
   "metadata": {},
   "outputs": [
    {
     "data": {
      "image/png": "[encoded data removed]",
      "text/plain": [
       "<Figure size 432x288 with 1 Axes>"
      ]
     },
     "metadata": {
      "needs_background": "light"
     },
     "output_type": "display_data"
    }
   ],
   "source": [
    "plt.scatter(X[:,0],X[:,1],c='black',label='unclustered data')\n",
    "plt.xlabel('Average runs')\n",
    "plt.ylabel('Bowling economy')\n",
    "plt.legend()\n",
    "plt.title('Cricketers data')\n",
    "plt.show()"
   ]
  },
  {
   "cell_type": "code",
   "execution_count": 39,
   "metadata": {},
   "outputs": [
    {
     "data": {
      "text/plain": [
       "array([0.325, 0.   ])"
      ]
     },
     "execution_count": 39,
     "metadata": {},
     "output_type": "execute_result"
    }
   ],
   "source": [
    "m=X.shape[0] #number of training examples\n",
    "n=X.shape[1] #number of features. Here n=2\n",
    "n_iter=100 #Let max iterations be 100"
   ]
  },
  {
   "cell_type": "code",
   "execution_count": 63,
   "metadata": {},
   "outputs": [],
   "source": [
    "#Calculating with K=2\n",
    "K=2\n",
    "Centroids=np.array([]).reshape(n,0) \n",
    "#selecting random values for Centroids\n",
    "for i in range(K):\n",
    "    rand=rd.randint(0,m-1)\n",
    "    Centroids=np.c_[Centroids,X[rand]]\n",
    "Output={}\n",
    "for i in range(n_iter):\n",
    "    EuclidianDistance=np.array([]).reshape(m,0)\n",
    "    for k in range(K):\n",
    "           #Calculting Euclidean distance for each point and setting in tempDist variable\n",
    "           tempDist=np.sum((X-Centroids[:,k])**2,axis=1)\n",
    "           EuclidianDistance=np.c_[EuclidianDistance,tempDist]\n",
    "    C=np.argmin(EuclidianDistance,axis=1)+1 #labeling clusters as 1, 2\n",
    "    Y={}\n",
    "    #taking the output to temporary variable Y as dictionary object 1:[], 2:[]\n",
    "    for k in range(K):\n",
    "        Y[k+1]=np.array([]).reshape(2,0)\n",
    "    for i in range(m):\n",
    "        Y[C[i]]=np.c_[Y[C[i]],X[i]]\n",
    "\n",
    "    for k in range(K):\n",
    "        Y[k+1]=Y[k+1].T\n",
    "\n",
    "    for k in range(K):\n",
    "         Centroids[:,k]=np.mean(Y[k+1],axis=0)\n",
    "    Output=Y"
   ]
  },
  {
   "cell_type": "code",
   "execution_count": 64,
   "metadata": {},
   "outputs": [
    {
     "data": {
      "image/png": "[encoded data removed]",
      "text/plain": [
       "<Figure size 432x288 with 1 Axes>"
      ]
     },
     "metadata": {
      "needs_background": "light"
     },
     "output_type": "display_data"
    }
   ],
   "source": [
    "#After clustering the data points into 2 clusters it looks as below\n",
    "color=['red','blue']\n",
    "labels=['cluster1','cluster2']\n",
    "for k in range(K):\n",
    "    plt.scatter(Output[k+1][:,0],Output[k+1][:,1],c=color[k],label=labels[k])\n",
    "plt.scatter(Centroids[0,:],Centroids[1,:],s=200,c='yellow',label='Centroids')\n",
    "plt.xlabel('Average runs')\n",
    "plt.ylabel('Bowling economy')\n",
    "plt.legend()\n",
    "plt.show()"
   ]
  },
  {
   "cell_type": "markdown",
   "metadata": {},
   "source": [
    "## 3.Generalizing the above to fit for K=2,3,4,5"
   ]
  },
  {
   "cell_type": "code",
   "execution_count": 69,
   "metadata": {},
   "outputs": [],
   "source": [
    "def KMeans(K, color, labels):\n",
    "    Centroids=np.array([]).reshape(n,0) \n",
    "    #selecting random values for Centroids\n",
    "    for i in range(K):\n",
    "        rand=rd.randint(0,m-1)\n",
    "        Centroids=np.c_[Centroids,X[rand]]\n",
    "    Output={}\n",
    "    for i in range(n_iter):\n",
    "        EuclidianDistance=np.array([]).reshape(m,0)\n",
    "        for k in range(K):\n",
    "               #Calculting Euclidean distance for each point and setting in tempDist variable\n",
    "               tempDist=np.sum((X-Centroids[:,k])**2,axis=1)\n",
    "               EuclidianDistance=np.c_[EuclidianDistance,tempDist]\n",
    "        C=np.argmin(EuclidianDistance,axis=1)+1 #labeling clusters as 1, 2\n",
    "        Y={}\n",
    "        #taking the output to temporary variable Y as dictionary object 1:[], 2:[]\n",
    "        for k in range(K):\n",
    "            Y[k+1]=np.array([]).reshape(2,0)\n",
    "        for i in range(m):\n",
    "            Y[C[i]]=np.c_[Y[C[i]],X[i]]\n",
    "\n",
    "        for k in range(K):\n",
    "            Y[k+1]=Y[k+1].T\n",
    "\n",
    "        for k in range(K):\n",
    "             Centroids[:,k]=np.mean(Y[k+1],axis=0)\n",
    "        Output=Y\n",
    "    for k in range(K):\n",
    "        plt.scatter(Output[k+1][:,0],Output[k+1][:,1],c=color[k],label=labels[k])\n",
    "    plt.scatter(Centroids[0,:],Centroids[1,:],s=200,c='yellow',label='Centroids')\n",
    "    plt.xlabel('Income')\n",
    "    plt.ylabel('Number of transactions')\n",
    "    plt.legend()\n",
    "    plt.show()"
   ]
  },
  {
   "cell_type": "code",
   "execution_count": 24,
   "metadata": {},
   "outputs": [],
   "source": [
    "OutputWith2 = KMeans(2)\n",
    "OutputWith3 = KMeans(3)\n",
    "OutputWith4 = KMeans(4)\n",
    "OutputWith5 = KMeans(5)"
   ]
  },
  {
   "cell_type": "code",
   "execution_count": 71,
   "metadata": {},
   "outputs": [
    {
     "data": {
      "image/png": "[encoded data removed]",
      "text/plain": [
       "<Figure size 432x288 with 1 Axes>"
      ]
     },
     "metadata": {
      "needs_background": "light"
     },
     "output_type": "display_data"
    },
    {
     "data": {
      "image/png": "[encoded data removed]",
      "text/plain": [
       "<Figure size 432x288 with 1 Axes>"
      ]
     },
     "metadata": {
      "needs_background": "light"
     },
     "output_type": "display_data"
    },
    {
     "data": {
      "image/png": "[encoded data removed]",
      "text/plain": [
       "<Figure size 432x288 with 1 Axes>"
      ]
     },
     "metadata": {
      "needs_background": "light"
     },
     "output_type": "display_data"
    },
    {
     "data": {
      "image/png": "[encoded data removed]",
      "text/plain": [
       "<Figure size 432x288 with 1 Axes>"
      ]
     },
     "metadata": {
      "needs_background": "light"
     },
     "output_type": "display_data"
    }
   ],
   "source": [
    "K=2\n",
    "color=['red','blue']\n",
    "labels=['cluster1','cluster2']\n",
    "KMeans(K, color, labels)\n",
    "K=3\n",
    "color=['red','blue','green']\n",
    "labels=['cluster1','cluster2','cluster3']\n",
    "KMeans(K, color, labels)\n",
    "K=4\n",
    "color=['red','blue','green','cyan']\n",
    "labels=['cluster1','cluster2','cluster3','cluster4']\n",
    "KMeans(K, color, labels)\n",
    "K=5\n",
    "color=['red','blue','green','cyan','magenta']\n",
    "labels=['cluster1','cluster2','cluster3','cluster4','cluster5']\n",
    "KMeans(K, color, labels)"
   ]
  },
  {
   "cell_type": "markdown",
   "metadata": {},
   "source": [
    "K=2, has divided the cluster into two groups average runs and bowling economy. \n",
    "\n",
    "K=3, has divided the cluster into 3 groups as bowlers giving low average runs, high avereage runs and bowling economy. \n",
    "\n",
    "K=4, has divided the cluster into 3 groups as cricketers giving low average runs, high avereage runs, with low bowling economy and high bowling economy. \n",
    "\n",
    "K=5, has divided the cluster into 3 groups as cricketers giving low average runs, medium average runs, high avereage runs, with low bowling economy and high bowling economy. \n",
    "\n",
    "I think K=4 divides the groups perfectly and will be able to analyze the cricketers with this data"
   ]
  },
  {
   "cell_type": "code",
   "execution_count": null,
   "metadata": {},
   "outputs": [],
   "source": []
  }
 ],
 "metadata": {
  "kernelspec": {
   "display_name": "Python 3",
   "language": "python",
   "name": "python3"
  },
  "language_info": {
   "codemirror_mode": {
    "name": "ipython",
    "version": 3
   },
   "file_extension": ".py",
   "mimetype": "text/x-python",
   "name": "python",
   "nbconvert_exporter": "python",
   "pygments_lexer": "ipython3",
   "version": "3.7.1"
  }
 },
 "nbformat": 4,
 "nbformat_minor": 2
}
